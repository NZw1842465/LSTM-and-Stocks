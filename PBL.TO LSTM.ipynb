{
 "cells": [
  {
   "cell_type": "code",
   "execution_count": 1,
   "id": "666c0af2",
   "metadata": {},
   "outputs": [],
   "source": [
    "import numpy\n",
    "import matplotlib.pyplot as plt\n",
    "from pandas import read_csv\n",
    "import math\n",
    "from keras.models import Sequential\n",
    "from keras.layers import Dense\n",
    "from keras.layers import LSTM\n",
    "from sklearn.preprocessing import MinMaxScaler\n",
    "from sklearn.metrics import mean_squared_error\n",
    "import pandas as pd\n",
    "import numpy as np\n"
   ]
  },
  {
   "cell_type": "code",
   "execution_count": 2,
   "id": "f39a1f49",
   "metadata": {},
   "outputs": [
    {
     "data": {
      "image/png": "[encoded data removed]",
      "text/plain": [
       "<Figure size 432x288 with 1 Axes>"
      ]
     },
     "metadata": {
      "needs_background": "light"
     },
     "output_type": "display_data"
    }
   ],
   "source": [
    "dataset = pd.read_csv('PBL.TO.csv',\n",
    "usecols=[1], engine='python')\n",
    "plt.plot(dataset)\n",
    "plt.show()"
   ]
  },
  {
   "cell_type": "code",
   "execution_count": 3,
   "id": "d141e530",
   "metadata": {},
   "outputs": [],
   "source": [
    "\n",
    "dataset = dataset.values\n",
    "dataset = dataset.astype('float32')"
   ]
  },
  {
   "cell_type": "code",
   "execution_count": 4,
   "id": "4a886e0b",
   "metadata": {},
   "outputs": [
    {
     "data": {
      "text/html": [
       "<div>\n",
       "<style scoped>\n",
       "    .dataframe tbody tr th:only-of-type {\n",
       "        vertical-align: middle;\n",
       "    }\n",
       "\n",
       "    .dataframe tbody tr th {\n",
       "        vertical-align: top;\n",
       "    }\n",
       "\n",
       "    .dataframe thead th {\n",
       "        text-align: right;\n",
       "    }\n",
       "</style>\n",
       "<table border=\"1\" class=\"dataframe\">\n",
       "  <thead>\n",
       "    <tr style=\"text-align: right;\">\n",
       "      <th></th>\n",
       "      <th>Date</th>\n",
       "      <th>Open</th>\n",
       "      <th>High</th>\n",
       "      <th>Low</th>\n",
       "      <th>Close</th>\n",
       "      <th>Adj Close</th>\n",
       "      <th>Volume</th>\n",
       "    </tr>\n",
       "  </thead>\n",
       "  <tbody>\n",
       "    <tr>\n",
       "      <th>0</th>\n",
       "      <td>7/4/2017</td>\n",
       "      <td>10.210000</td>\n",
       "      <td>10.700000</td>\n",
       "      <td>10.210000</td>\n",
       "      <td>10.700000</td>\n",
       "      <td>10.362569</td>\n",
       "      <td>18400</td>\n",
       "    </tr>\n",
       "    <tr>\n",
       "      <th>1</th>\n",
       "      <td>7/5/2017</td>\n",
       "      <td>10.750000</td>\n",
       "      <td>11.310000</td>\n",
       "      <td>10.750000</td>\n",
       "      <td>11.310000</td>\n",
       "      <td>10.953333</td>\n",
       "      <td>16700</td>\n",
       "    </tr>\n",
       "    <tr>\n",
       "      <th>2</th>\n",
       "      <td>7/6/2017</td>\n",
       "      <td>11.250000</td>\n",
       "      <td>11.500000</td>\n",
       "      <td>11.250000</td>\n",
       "      <td>11.350000</td>\n",
       "      <td>10.992070</td>\n",
       "      <td>13000</td>\n",
       "    </tr>\n",
       "    <tr>\n",
       "      <th>3</th>\n",
       "      <td>7/7/2017</td>\n",
       "      <td>11.490000</td>\n",
       "      <td>11.490000</td>\n",
       "      <td>11.310000</td>\n",
       "      <td>11.490000</td>\n",
       "      <td>11.127651</td>\n",
       "      <td>9900</td>\n",
       "    </tr>\n",
       "    <tr>\n",
       "      <th>4</th>\n",
       "      <td>7/10/2017</td>\n",
       "      <td>11.500000</td>\n",
       "      <td>11.500000</td>\n",
       "      <td>11.390000</td>\n",
       "      <td>11.400000</td>\n",
       "      <td>11.040494</td>\n",
       "      <td>3300</td>\n",
       "    </tr>\n",
       "    <tr>\n",
       "      <th>...</th>\n",
       "      <td>...</td>\n",
       "      <td>...</td>\n",
       "      <td>...</td>\n",
       "      <td>...</td>\n",
       "      <td>...</td>\n",
       "      <td>...</td>\n",
       "      <td>...</td>\n",
       "    </tr>\n",
       "    <tr>\n",
       "      <th>1249</th>\n",
       "      <td>6/24/2022</td>\n",
       "      <td>21.379999</td>\n",
       "      <td>22.500000</td>\n",
       "      <td>21.330000</td>\n",
       "      <td>22.150000</td>\n",
       "      <td>22.109283</td>\n",
       "      <td>20200</td>\n",
       "    </tr>\n",
       "    <tr>\n",
       "      <th>1250</th>\n",
       "      <td>6/27/2022</td>\n",
       "      <td>21.730000</td>\n",
       "      <td>22.120001</td>\n",
       "      <td>21.340000</td>\n",
       "      <td>21.840000</td>\n",
       "      <td>21.799854</td>\n",
       "      <td>33600</td>\n",
       "    </tr>\n",
       "    <tr>\n",
       "      <th>1251</th>\n",
       "      <td>6/28/2022</td>\n",
       "      <td>21.850000</td>\n",
       "      <td>22.059999</td>\n",
       "      <td>21.309999</td>\n",
       "      <td>21.760000</td>\n",
       "      <td>21.720001</td>\n",
       "      <td>15600</td>\n",
       "    </tr>\n",
       "    <tr>\n",
       "      <th>1252</th>\n",
       "      <td>6/29/2022</td>\n",
       "      <td>20.889999</td>\n",
       "      <td>21.059999</td>\n",
       "      <td>20.799999</td>\n",
       "      <td>20.940001</td>\n",
       "      <td>20.940001</td>\n",
       "      <td>5200</td>\n",
       "    </tr>\n",
       "    <tr>\n",
       "      <th>1253</th>\n",
       "      <td>6/30/2022</td>\n",
       "      <td>20.760000</td>\n",
       "      <td>20.770000</td>\n",
       "      <td>20.120001</td>\n",
       "      <td>20.170000</td>\n",
       "      <td>20.170000</td>\n",
       "      <td>5900</td>\n",
       "    </tr>\n",
       "  </tbody>\n",
       "</table>\n",
       "<p>1254 rows × 7 columns</p>\n",
       "</div>"
      ],
      "text/plain": [
       "           Date       Open       High        Low      Close  Adj Close  Volume\n",
       "0      7/4/2017  10.210000  10.700000  10.210000  10.700000  10.362569   18400\n",
       "1      7/5/2017  10.750000  11.310000  10.750000  11.310000  10.953333   16700\n",
       "2      7/6/2017  11.250000  11.500000  11.250000  11.350000  10.992070   13000\n",
       "3      7/7/2017  11.490000  11.490000  11.310000  11.490000  11.127651    9900\n",
       "4     7/10/2017  11.500000  11.500000  11.390000  11.400000  11.040494    3300\n",
       "...         ...        ...        ...        ...        ...        ...     ...\n",
       "1249  6/24/2022  21.379999  22.500000  21.330000  22.150000  22.109283   20200\n",
       "1250  6/27/2022  21.730000  22.120001  21.340000  21.840000  21.799854   33600\n",
       "1251  6/28/2022  21.850000  22.059999  21.309999  21.760000  21.720001   15600\n",
       "1252  6/29/2022  20.889999  21.059999  20.799999  20.940001  20.940001    5200\n",
       "1253  6/30/2022  20.760000  20.770000  20.120001  20.170000  20.170000    5900\n",
       "\n",
       "[1254 rows x 7 columns]"
      ]
     },
     "execution_count": 4,
     "metadata": {},
     "output_type": "execute_result"
    }
   ],
   "source": [
    "# fix random seed for reproducibility\n",
    "np.random.seed(7)\n",
    "\n",
    "import pandas as pd\n",
    "df = pd.read_csv('PBL.TO.csv')\n",
    "df.head(10)\n",
    "\n",
    "df.isna().sum()\n",
    "\n",
    "df.isna().sum()/len(df)*100\n",
    "\n",
    "df.dropna(axis=1)"
   ]
  },
  {
   "cell_type": "code",
   "execution_count": 5,
   "id": "cfa5c45d",
   "metadata": {},
   "outputs": [],
   "source": [
    "# fix random seed for reproducibility\n",
    "numpy.random.seed(7)"
   ]
  },
  {
   "cell_type": "code",
   "execution_count": 6,
   "id": "cdfb5d48",
   "metadata": {},
   "outputs": [],
   "source": [
    "# load the dataset\n",
    "dataframe = pd.read_csv('PBL.TO.csv', usecols=[1], engine='python')\n",
    "dataset = dataframe.values\n",
    "dataset = dataset.astype('float32')"
   ]
  },
  {
   "cell_type": "code",
   "execution_count": 7,
   "id": "8d15d9c3",
   "metadata": {},
   "outputs": [],
   "source": [
    "# normalize the dataset\n",
    "scaler = MinMaxScaler(feature_range=(0, 1))\n",
    "dataset = scaler.fit_transform(dataset)\n",
    "\n"
   ]
  },
  {
   "cell_type": "code",
   "execution_count": 8,
   "id": "46760055",
   "metadata": {},
   "outputs": [
    {
     "name": "stdout",
     "output_type": "stream",
     "text": [
      "840 414\n"
     ]
    }
   ],
   "source": [
    "# split into train and test sets\n",
    "train_size = int(len(dataset) * 0.67)\n",
    "test_size = len(dataset) - train_size\n",
    "train, test = dataset[0:train_size,:], dataset[train_size:len(dataset),:]\n",
    "print(len(train), len(test))"
   ]
  },
  {
   "cell_type": "code",
   "execution_count": 9,
   "id": "c90acb8f",
   "metadata": {},
   "outputs": [],
   "source": [
    "# convert an array of values into a dataset matrix\n",
    "def create_dataset(dataset, look_back=1):\n",
    "\tdataX, dataY = [], []\n",
    "\tfor i in range(len(dataset)-look_back-1):\n",
    "\t\ta = dataset[i:(i+look_back), 0]\n",
    "\t\tdataX.append(a)\n",
    "\t\tdataY.append(dataset[i + look_back, 0])\n",
    "\treturn numpy.array(dataX), numpy.array(dataY)\n",
    "\n",
    "\n",
    "# reshape into X=t and Y=t+1\n",
    "look_back = 1\n",
    "trainX, trainY = create_dataset(train, look_back)\n",
    "testX, testY = create_dataset(test, look_back)"
   ]
  },
  {
   "cell_type": "code",
   "execution_count": 10,
   "id": "107c21c6",
   "metadata": {},
   "outputs": [],
   "source": [
    "# reshape input to be [samples, time steps, features]\n",
    "trainX = numpy.reshape(trainX, (trainX.shape[0], 1, trainX.shape[1]))\n",
    "testX = numpy.reshape(testX, (testX.shape[0], 1, testX.shape[1]))\n"
   ]
  },
  {
   "cell_type": "code",
   "execution_count": 11,
   "id": "682f2c0b",
   "metadata": {},
   "outputs": [
    {
     "name": "stdout",
     "output_type": "stream",
     "text": [
      "Epoch 1/100\n",
      "838/838 - 2s - loss: 0.0038 - 2s/epoch - 3ms/step\n",
      "Epoch 2/100\n",
      "838/838 - 1s - loss: 9.1945e-04 - 1s/epoch - 1ms/step\n",
      "Epoch 3/100\n",
      "838/838 - 1s - loss: 1.2088e-04 - 1s/epoch - 1ms/step\n",
      "Epoch 4/100\n",
      "838/838 - 1s - loss: 1.0519e-04 - 996ms/epoch - 1ms/step\n",
      "Epoch 5/100\n",
      "838/838 - 1s - loss: 1.0525e-04 - 784ms/epoch - 935us/step\n",
      "Epoch 6/100\n",
      "838/838 - 1s - loss: 1.0918e-04 - 880ms/epoch - 1ms/step\n",
      "Epoch 7/100\n",
      "838/838 - 1s - loss: 1.0585e-04 - 778ms/epoch - 929us/step\n",
      "Epoch 8/100\n",
      "838/838 - 1s - loss: 1.0752e-04 - 891ms/epoch - 1ms/step\n",
      "Epoch 9/100\n",
      "838/838 - 1s - loss: 1.0943e-04 - 1s/epoch - 1ms/step\n",
      "Epoch 10/100\n",
      "838/838 - 1s - loss: 1.0805e-04 - 785ms/epoch - 936us/step\n",
      "Epoch 11/100\n",
      "838/838 - 1s - loss: 1.1166e-04 - 827ms/epoch - 987us/step\n",
      "Epoch 12/100\n",
      "838/838 - 1s - loss: 1.0247e-04 - 853ms/epoch - 1ms/step\n",
      "Epoch 13/100\n",
      "838/838 - 1s - loss: 1.0341e-04 - 1s/epoch - 1ms/step\n",
      "Epoch 14/100\n",
      "838/838 - 1s - loss: 1.0606e-04 - 968ms/epoch - 1ms/step\n",
      "Epoch 15/100\n",
      "838/838 - 1s - loss: 1.0514e-04 - 750ms/epoch - 895us/step\n",
      "Epoch 16/100\n",
      "838/838 - 1s - loss: 1.0260e-04 - 1s/epoch - 1ms/step\n",
      "Epoch 17/100\n",
      "838/838 - 1s - loss: 1.0728e-04 - 924ms/epoch - 1ms/step\n",
      "Epoch 18/100\n",
      "838/838 - 1s - loss: 1.0590e-04 - 777ms/epoch - 927us/step\n",
      "Epoch 19/100\n",
      "838/838 - 1s - loss: 1.0671e-04 - 805ms/epoch - 960us/step\n",
      "Epoch 20/100\n",
      "838/838 - 1s - loss: 1.0385e-04 - 885ms/epoch - 1ms/step\n",
      "Epoch 21/100\n",
      "838/838 - 1s - loss: 1.0213e-04 - 1s/epoch - 1ms/step\n",
      "Epoch 22/100\n",
      "838/838 - 1s - loss: 1.0565e-04 - 923ms/epoch - 1ms/step\n",
      "Epoch 23/100\n",
      "838/838 - 1s - loss: 1.0615e-04 - 868ms/epoch - 1ms/step\n",
      "Epoch 24/100\n",
      "838/838 - 1s - loss: 1.0529e-04 - 870ms/epoch - 1ms/step\n",
      "Epoch 25/100\n",
      "838/838 - 1s - loss: 1.0103e-04 - 875ms/epoch - 1ms/step\n",
      "Epoch 26/100\n",
      "838/838 - 1s - loss: 1.1001e-04 - 1s/epoch - 1ms/step\n",
      "Epoch 27/100\n",
      "838/838 - 1s - loss: 1.0650e-04 - 847ms/epoch - 1ms/step\n",
      "Epoch 28/100\n",
      "838/838 - 1s - loss: 1.0532e-04 - 843ms/epoch - 1ms/step\n",
      "Epoch 29/100\n",
      "838/838 - 1s - loss: 1.0291e-04 - 753ms/epoch - 899us/step\n",
      "Epoch 30/100\n",
      "838/838 - 1s - loss: 1.0127e-04 - 1s/epoch - 1ms/step\n",
      "Epoch 31/100\n",
      "838/838 - 1s - loss: 1.0037e-04 - 912ms/epoch - 1ms/step\n",
      "Epoch 32/100\n",
      "838/838 - 1s - loss: 1.0198e-04 - 837ms/epoch - 999us/step\n",
      "Epoch 33/100\n",
      "838/838 - 1s - loss: 1.0452e-04 - 925ms/epoch - 1ms/step\n",
      "Epoch 34/100\n",
      "838/838 - 1s - loss: 1.0383e-04 - 934ms/epoch - 1ms/step\n",
      "Epoch 35/100\n",
      "838/838 - 1s - loss: 1.0371e-04 - 824ms/epoch - 983us/step\n",
      "Epoch 36/100\n",
      "838/838 - 1s - loss: 1.0337e-04 - 860ms/epoch - 1ms/step\n",
      "Epoch 37/100\n",
      "838/838 - 1s - loss: 1.0163e-04 - 980ms/epoch - 1ms/step\n",
      "Epoch 38/100\n",
      "838/838 - 1s - loss: 1.0129e-04 - 824ms/epoch - 984us/step\n",
      "Epoch 39/100\n",
      "838/838 - 1s - loss: 1.0555e-04 - 799ms/epoch - 953us/step\n",
      "Epoch 40/100\n",
      "838/838 - 1s - loss: 1.0535e-04 - 1s/epoch - 1ms/step\n",
      "Epoch 41/100\n",
      "838/838 - 1s - loss: 9.9965e-05 - 926ms/epoch - 1ms/step\n",
      "Epoch 42/100\n",
      "838/838 - 1s - loss: 1.0159e-04 - 926ms/epoch - 1ms/step\n",
      "Epoch 43/100\n",
      "838/838 - 1s - loss: 9.9494e-05 - 827ms/epoch - 987us/step\n",
      "Epoch 44/100\n",
      "838/838 - 1s - loss: 1.0480e-04 - 908ms/epoch - 1ms/step\n",
      "Epoch 45/100\n",
      "838/838 - 1s - loss: 1.0168e-04 - 933ms/epoch - 1ms/step\n",
      "Epoch 46/100\n",
      "838/838 - 1s - loss: 1.0349e-04 - 1s/epoch - 2ms/step\n",
      "Epoch 47/100\n",
      "838/838 - 1s - loss: 1.0013e-04 - 1s/epoch - 1ms/step\n",
      "Epoch 48/100\n",
      "838/838 - 2s - loss: 1.0606e-04 - 2s/epoch - 3ms/step\n",
      "Epoch 49/100\n",
      "838/838 - 1s - loss: 1.0283e-04 - 928ms/epoch - 1ms/step\n",
      "Epoch 50/100\n",
      "838/838 - 1s - loss: 1.0473e-04 - 835ms/epoch - 996us/step\n",
      "Epoch 51/100\n",
      "838/838 - 1s - loss: 1.0223e-04 - 889ms/epoch - 1ms/step\n",
      "Epoch 52/100\n",
      "838/838 - 1s - loss: 1.0159e-04 - 839ms/epoch - 1ms/step\n",
      "Epoch 53/100\n",
      "838/838 - 1s - loss: 1.0117e-04 - 829ms/epoch - 989us/step\n",
      "Epoch 54/100\n",
      "838/838 - 1s - loss: 1.0002e-04 - 1s/epoch - 2ms/step\n",
      "Epoch 55/100\n",
      "838/838 - 1s - loss: 1.0187e-04 - 780ms/epoch - 931us/step\n",
      "Epoch 56/100\n",
      "838/838 - 1s - loss: 1.0652e-04 - 754ms/epoch - 900us/step\n",
      "Epoch 57/100\n",
      "838/838 - 1s - loss: 1.0323e-04 - 753ms/epoch - 899us/step\n",
      "Epoch 58/100\n",
      "838/838 - 1s - loss: 1.0416e-04 - 772ms/epoch - 921us/step\n",
      "Epoch 59/100\n",
      "838/838 - 1s - loss: 9.8762e-05 - 749ms/epoch - 894us/step\n",
      "Epoch 60/100\n",
      "838/838 - 1s - loss: 1.0452e-04 - 745ms/epoch - 889us/step\n",
      "Epoch 61/100\n",
      "838/838 - 1s - loss: 1.0176e-04 - 746ms/epoch - 890us/step\n",
      "Epoch 62/100\n",
      "838/838 - 1s - loss: 1.0273e-04 - 747ms/epoch - 892us/step\n",
      "Epoch 63/100\n",
      "838/838 - 1s - loss: 1.0357e-04 - 739ms/epoch - 882us/step\n",
      "Epoch 64/100\n",
      "838/838 - 1s - loss: 1.0262e-04 - 747ms/epoch - 892us/step\n",
      "Epoch 65/100\n",
      "838/838 - 1s - loss: 1.0108e-04 - 752ms/epoch - 897us/step\n",
      "Epoch 66/100\n",
      "838/838 - 1s - loss: 1.0480e-04 - 741ms/epoch - 884us/step\n",
      "Epoch 67/100\n",
      "838/838 - 1s - loss: 1.0318e-04 - 745ms/epoch - 889us/step\n",
      "Epoch 68/100\n",
      "838/838 - 1s - loss: 9.8797e-05 - 749ms/epoch - 894us/step\n",
      "Epoch 69/100\n",
      "838/838 - 1s - loss: 1.0281e-04 - 739ms/epoch - 882us/step\n",
      "Epoch 70/100\n",
      "838/838 - 1s - loss: 1.0332e-04 - 745ms/epoch - 889us/step\n",
      "Epoch 71/100\n",
      "838/838 - 1s - loss: 1.0077e-04 - 739ms/epoch - 882us/step\n",
      "Epoch 72/100\n",
      "838/838 - 1s - loss: 9.9319e-05 - 740ms/epoch - 883us/step\n",
      "Epoch 73/100\n",
      "838/838 - 1s - loss: 9.9629e-05 - 743ms/epoch - 887us/step\n",
      "Epoch 74/100\n",
      "838/838 - 1s - loss: 1.0301e-04 - 754ms/epoch - 900us/step\n",
      "Epoch 75/100\n",
      "838/838 - 1s - loss: 1.0313e-04 - 748ms/epoch - 893us/step\n",
      "Epoch 76/100\n",
      "838/838 - 1s - loss: 1.0291e-04 - 760ms/epoch - 906us/step\n",
      "Epoch 77/100\n",
      "838/838 - 1s - loss: 1.0050e-04 - 740ms/epoch - 883us/step\n",
      "Epoch 78/100\n",
      "838/838 - 1s - loss: 1.0262e-04 - 741ms/epoch - 884us/step\n",
      "Epoch 79/100\n",
      "838/838 - 1s - loss: 1.0253e-04 - 743ms/epoch - 886us/step\n",
      "Epoch 80/100\n",
      "838/838 - 1s - loss: 1.0115e-04 - 745ms/epoch - 889us/step\n",
      "Epoch 81/100\n",
      "838/838 - 1s - loss: 1.0145e-04 - 737ms/epoch - 879us/step\n",
      "Epoch 82/100\n",
      "838/838 - 1s - loss: 1.0288e-04 - 741ms/epoch - 884us/step\n",
      "Epoch 83/100\n",
      "838/838 - 1s - loss: 1.0077e-04 - 745ms/epoch - 889us/step\n",
      "Epoch 84/100\n",
      "838/838 - 1s - loss: 1.0026e-04 - 746ms/epoch - 891us/step\n",
      "Epoch 85/100\n",
      "838/838 - 1s - loss: 1.0344e-04 - 743ms/epoch - 887us/step\n",
      "Epoch 86/100\n",
      "838/838 - 1s - loss: 1.0399e-04 - 748ms/epoch - 893us/step\n",
      "Epoch 87/100\n",
      "838/838 - 1s - loss: 1.0008e-04 - 738ms/epoch - 881us/step\n",
      "Epoch 88/100\n",
      "838/838 - 1s - loss: 1.0065e-04 - 756ms/epoch - 902us/step\n",
      "Epoch 89/100\n",
      "838/838 - 1s - loss: 9.8572e-05 - 749ms/epoch - 894us/step\n",
      "Epoch 90/100\n",
      "838/838 - 1s - loss: 1.0487e-04 - 747ms/epoch - 892us/step\n",
      "Epoch 91/100\n",
      "838/838 - 1s - loss: 1.0128e-04 - 743ms/epoch - 887us/step\n",
      "Epoch 92/100\n",
      "838/838 - 1s - loss: 1.0419e-04 - 759ms/epoch - 905us/step\n",
      "Epoch 93/100\n",
      "838/838 - 1s - loss: 1.0282e-04 - 741ms/epoch - 884us/step\n",
      "Epoch 94/100\n",
      "838/838 - 1s - loss: 1.0349e-04 - 776ms/epoch - 926us/step\n",
      "Epoch 95/100\n",
      "838/838 - 1s - loss: 9.9600e-05 - 748ms/epoch - 893us/step\n",
      "Epoch 96/100\n",
      "838/838 - 1s - loss: 1.0368e-04 - 737ms/epoch - 879us/step\n",
      "Epoch 97/100\n",
      "838/838 - 1s - loss: 1.0081e-04 - 737ms/epoch - 880us/step\n",
      "Epoch 98/100\n",
      "838/838 - 1s - loss: 1.0231e-04 - 746ms/epoch - 890us/step\n",
      "Epoch 99/100\n",
      "838/838 - 1s - loss: 1.0035e-04 - 745ms/epoch - 889us/step\n",
      "Epoch 100/100\n",
      "838/838 - 1s - loss: 1.0144e-04 - 771ms/epoch - 920us/step\n"
     ]
    },
    {
     "data": {
      "text/plain": [
       "<keras.callbacks.History at 0x21bd05a7d30>"
      ]
     },
     "execution_count": 11,
     "metadata": {},
     "output_type": "execute_result"
    }
   ],
   "source": [
    "# create and fit the LSTM network\n",
    "model = Sequential()\n",
    "model.add(LSTM(4, input_shape=(1, look_back)))\n",
    "model.add(Dense(1))\n",
    "model.compile(loss='mean_squared_error', optimizer='adam')\n",
    "model.fit(trainX, trainY, epochs=100, batch_size=1, verbose=2)\n"
   ]
  },
  {
   "cell_type": "code",
   "execution_count": 12,
   "id": "9e023796",
   "metadata": {},
   "outputs": [],
   "source": [
    "# make predictions\n",
    "trainPredict = model.predict(trainX)\n",
    "testPredict = model.predict(testX)\n",
    "\n",
    "# invert predictions\n",
    "trainPredict = scaler.inverse_transform(trainPredict)\n",
    "trainY = scaler.inverse_transform([trainY])\n",
    "testPredict = scaler.inverse_transform(testPredict)\n",
    "testY = scaler.inverse_transform([testY])"
   ]
  },
  {
   "cell_type": "code",
   "execution_count": 13,
   "id": "a353eb48",
   "metadata": {},
   "outputs": [],
   "source": [
    "# shift train predictions for plotting\n",
    "trainPredictPlot = numpy.empty_like(dataset)\n",
    "trainPredictPlot[:, :] = numpy.nan\n",
    "trainPredictPlot[look_back:len(trainPredict)+look_back, :] = trainPredict\n",
    "\n",
    "\n"
   ]
  },
  {
   "cell_type": "code",
   "execution_count": 14,
   "id": "f1a6e4bf",
   "metadata": {},
   "outputs": [],
   "source": [
    "\n",
    "# shift test predictions for plotting\n",
    "testPredictPlot = numpy.empty_like(dataset)\n",
    "testPredictPlot[:, :] = numpy.nan\n",
    "testPredictPlot[len(trainPredict)+(look_back*2)+1:len(dataset)-1, :] = testPredict\n",
    "\n",
    "\n"
   ]
  },
  {
   "cell_type": "code",
   "execution_count": 15,
   "id": "9f0890d1",
   "metadata": {},
   "outputs": [
    {
     "data": {
      "image/png": "[encoded data removed]",
      "text/plain": [
       "<Figure size 432x288 with 1 Axes>"
      ]
     },
     "metadata": {
      "needs_background": "light"
     },
     "output_type": "display_data"
    }
   ],
   "source": [
    "# plot baseline and predictions\n",
    "plt.plot(scaler.inverse_transform(dataset))\n",
    "plt.plot(trainPredictPlot)\n",
    "plt.plot(testPredictPlot)\n",
    "plt.show()"
   ]
  },
  {
   "cell_type": "code",
   "execution_count": 16,
   "id": "970d0e19",
   "metadata": {},
   "outputs": [
    {
     "name": "stdout",
     "output_type": "stream",
     "text": [
      "Train Score: 0.54 RMSE\n",
      "Test Score: 4.81 RMSE\n"
     ]
    }
   ],
   "source": [
    "# calculate root mean squared error\n",
    "trainScore = math.sqrt(mean_squared_error(trainY[0], trainPredict[:,0]))\n",
    "print('Train Score: %.2f RMSE' % (trainScore))\n",
    "testScore = math.sqrt(mean_squared_error(testY[0], testPredict[:,0]))\n",
    "print('Test Score: %.2f RMSE' % (testScore))"
   ]
  },
  {
   "cell_type": "code",
   "execution_count": 17,
   "id": "74d2bef0",
   "metadata": {},
   "outputs": [
    {
     "name": "stdout",
     "output_type": "stream",
     "text": [
      "Accuracy: 99.48 %.\n"
     ]
    }
   ],
   "source": [
    "RMSE = 0.52\n",
    "accuracy = 100 - np.mean(RMSE)\n",
    "print('Accuracy:', round(accuracy, 2), '%.')"
   ]
  },
  {
   "cell_type": "code",
   "execution_count": 18,
   "id": "e4dd01c9",
   "metadata": {},
   "outputs": [
    {
     "name": "stdout",
     "output_type": "stream",
     "text": [
      "Accuracy: 95.36 %.\n"
     ]
    }
   ],
   "source": [
    "RMSE = 4.64\n",
    "accuracy = 100 - np.mean(RMSE)\n",
    "print('Accuracy:', round(accuracy, 2), '%.')"
   ]
  },
  {
   "cell_type": "code",
   "execution_count": null,
   "id": "67bc16a7",
   "metadata": {},
   "outputs": [],
   "source": []
  }
 ],
 "metadata": {
  "kernelspec": {
   "display_name": "Python 3",
   "language": "python",
   "name": "python3"
  },
  "language_info": {
   "codemirror_mode": {
    "name": "ipython",
    "version": 3
   },
   "file_extension": ".py",
   "mimetype": "text/x-python",
   "name": "python",
   "nbconvert_exporter": "python",
   "pygments_lexer": "ipython3",
   "version": "3.8.8"
  }
 },
 "nbformat": 4,
 "nbformat_minor": 5
}
